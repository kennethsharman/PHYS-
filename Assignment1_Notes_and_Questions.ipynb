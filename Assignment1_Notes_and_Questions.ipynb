{
 "cells": [
  {
   "cell_type": "markdown",
   "metadata": {},
   "source": [
    "# Polynomials\n",
    "https://en.wikipedia.org/wiki/Polynomial\n",
    "\n",
    "In mathematics, a polynomial is an expression consisting of variables (also called indeterminates) and coefficients, that involves only the operations of addition, subtraction, multiplication, and non-negative integer exponents of variables. An example of a polynomial of a single indeterminate x is $x^2 − 4x + 7$. An example in three variables is $x^3 + 2xyz^22 − yz + 1$.\n",
    "\n",
    "Polynomials appear in a wide variety of areas of mathematics and science. For example, they are used to form polynomial equations, which encode a wide range of problems, from elementary word problems to complicated problems in the sciences; they are used to define polynomial functions, which appear in settings ranging from basic chemistry and physics to economics and social science; they are used in calculus and numerical analysis to approximate other functions. In advanced mathematics, polynomials are used to construct polynomial rings and algebraic varieties, central concepts in algebra and algebraic geometry.\n",
    "\n",
    "\n",
    "Given a polynomial of order $N$ \n",
    "\n",
    "$$ P(x) = a_0 + a_1 x + a_2 x^2 \\ldots = \\sum\\limits_{n=0}^N a_n x^n $$\n",
    "\n",
    "we can easily evaluate it at any arbitrary point $x_i$\n",
    "\n",
    "$$ P(x_i) = \\sum\\limits_{n=0}^N a_n x_i^n $$\n",
    "\n",
    "\n",
    "we can easily determine the derivative with respect to $x$\n",
    "\n",
    "$$ \\frac{d}{dx} P(x) = a_1 + 2 a_2 x \\ldots $$\n",
    "\n",
    "and the integral\n",
    "\n",
    "$$  \\int P(x) dx = C + a_0 x + \\frac{1}{2} a_1 x^2 \\ldots $$\n",
    "\n",
    "\n",
    "Many functions can be approximated by Taylor series\n",
    "\n",
    "$$ f(x) \\approx c_0 + c_1 x + c_2 x^2 \\ldots = \\sum\\limits_{n=0}^N c_n x^n $$\n",
    "\n",
    "\n",
    "\n",
    "These calculations can be implemented using only core python"
   ]
  },
  {
   "cell_type": "code",
   "execution_count": 1,
   "metadata": {
    "collapsed": true
   },
   "outputs": [],
   "source": [
    "def poly_eval_basic_forward(x, coeff):\n",
    "    \"\"\"evaluate a polynomal\n",
    "    \"\"\"\n",
    "    \n",
    "    result = 0.0\n",
    "    for n,c in enumerate(coeff):\n",
    "        result = result + c * x**n\n",
    "    return result"
   ]
  },
  {
   "cell_type": "code",
   "execution_count": 2,
   "metadata": {},
   "outputs": [
    {
     "name": "stdout",
     "output_type": "stream",
     "text": [
      "1.78125\n"
     ]
    }
   ],
   "source": [
    "print( poly_eval_basic_forward(0.5, [0,1,2,3,4,5]) )"
   ]
  },
  {
   "cell_type": "markdown",
   "metadata": {},
   "source": [
    "## Horner's method\n",
    "\n",
    "Exponentiation is computationally ``expensive'' (CPU intensive).  If we reverse the order of summation then we only need multiplication and addition\n",
    "$$((c_N*x + c_{N-1} )*x + c_{N-2})* x \\ldots + c_0$$\n",
    "which can be calculated more quickly."
   ]
  },
  {
   "cell_type": "code",
   "execution_count": 3,
   "metadata": {
    "collapsed": true
   },
   "outputs": [],
   "source": [
    "def poly_eval_basic_reverse(x, coeff):\n",
    "    result = coeff[-1]\n",
    "    for c in coeff[-2::-1]:\n",
    "        result = result * x + c\n",
    "    return result"
   ]
  },
  {
   "cell_type": "code",
   "execution_count": 4,
   "metadata": {},
   "outputs": [
    {
     "name": "stdout",
     "output_type": "stream",
     "text": [
      "1.78125\n"
     ]
    }
   ],
   "source": [
    "print( poly_eval_basic_reverse(0.5, [0,1,2,3,4,5]) )"
   ]
  },
  {
   "cell_type": "markdown",
   "metadata": {},
   "source": [
    "## %timeit\n",
    "\n",
    "The IPython interpreter can execute several ``magic'' commands that can be used for code analysis.  For example, we can show that Horner's method (reverse evaluation of polynomials) is roughly twice as fast as forward evaluation."
   ]
  },
  {
   "cell_type": "code",
   "execution_count": 5,
   "metadata": {},
   "outputs": [
    {
     "name": "stdout",
     "output_type": "stream",
     "text": [
      "The slowest run took 4.37 times longer than the fastest. This could mean that an intermediate result is being cached.\n",
      "1000000 loops, best of 3: 1.28 µs per loop\n"
     ]
    }
   ],
   "source": [
    " %timeit poly_eval_basic_forward(0.5, [0,1,2,3,4,5])"
   ]
  },
  {
   "cell_type": "code",
   "execution_count": 6,
   "metadata": {},
   "outputs": [
    {
     "name": "stdout",
     "output_type": "stream",
     "text": [
      "The slowest run took 4.24 times longer than the fastest. This could mean that an intermediate result is being cached.\n",
      "1000000 loops, best of 3: 635 ns per loop\n"
     ]
    }
   ],
   "source": [
    "%timeit poly_eval_basic_reverse(0.5, [0,1,2,3,4,5])"
   ]
  },
  {
   "cell_type": "markdown",
   "metadata": {},
   "source": [
    "## floating point math\n",
    "\n",
    "Evaluating at $x=0.1$ for a large number of coefficients gives slightly different results from forward and reverse evaluation."
   ]
  },
  {
   "cell_type": "code",
   "execution_count": 7,
   "metadata": {},
   "outputs": [
    {
     "name": "stdout",
     "output_type": "stream",
     "text": [
      "0.12345679012345678 0.12345679012345681 2.7755575615628914e-17\n"
     ]
    }
   ],
   "source": [
    "p1 = poly_eval_basic_forward(0.1, range(0,99,1) )\n",
    "p2 = poly_eval_basic_reverse(0.1, range(0,99,1) )\n",
    "print( p1, p2, p2-p1)"
   ]
  },
  {
   "cell_type": "markdown",
   "metadata": {},
   "source": [
    "### Question 1: Why are the results for evaluating x=0.1 not exactly the same for the forward and reverse methods?  Should we worry about this?"
   ]
  },
  {
   "cell_type": "markdown",
   "metadata": {},
   "source": [
    "## math\n",
    "\n",
    "Python provides support for basic integer and floating point arithmetic as part of the language core.  Additional functionality is provided by the ``math'' module.  Information about these functions can be obtained by typing \n",
    " ``dir(math)'' or ``help(math)''."
   ]
  },
  {
   "cell_type": "code",
   "execution_count": 8,
   "metadata": {},
   "outputs": [
    {
     "name": "stdout",
     "output_type": "stream",
     "text": [
      "Help on built-in function factorial in module math:\n",
      "\n",
      "factorial(...)\n",
      "    factorial(x) -> Integral\n",
      "    \n",
      "    Find x!. Raise a ValueError if x is negative or non-integral.\n",
      "\n",
      "99! = 933262154439441526816992388562667004907159682643816214685929638952175999932299156089414639761565182862536979208272237582511852109168640000000000000000000000\n"
     ]
    }
   ],
   "source": [
    "import math\n",
    "help( math.factorial)\n",
    "print( '99! =',  math.factorial(99) )"
   ]
  },
  {
   "cell_type": "markdown",
   "metadata": {},
   "source": [
    "## numpy\n",
    "\n",
    "Although the core python math is actually quite good, we will tend to use tools provided by the numpy and scipy modules.\n",
    "\n",
    "<pre>\n",
    "import numpy as np\n",
    "import scipy.special as specfunc\n",
    "</pre>\n",
    "\n",
    "Numpy is especially useful for vectorized operations when we want to apply the same transformation to a sequence of numbers.  This can be done in python using lists, but using numpy arrays is often more convenient and usually much faster."
   ]
  },
  {
   "cell_type": "code",
   "execution_count": 9,
   "metadata": {},
   "outputs": [
    {
     "name": "stdout",
     "output_type": "stream",
     "text": [
      "10000 loops, best of 3: 21.1 µs per loop\n"
     ]
    }
   ],
   "source": [
    "%timeit y = [x**2 for x in range(99)]\n"
   ]
  },
  {
   "cell_type": "code",
   "execution_count": 10,
   "metadata": {},
   "outputs": [
    {
     "name": "stdout",
     "output_type": "stream",
     "text": [
      "The slowest run took 16.93 times longer than the fastest. This could mean that an intermediate result is being cached.\n",
      "1000000 loops, best of 3: 890 ns per loop\n"
     ]
    }
   ],
   "source": [
    "import numpy as np\n",
    "%timeit y = np.arange(99)**2"
   ]
  },
  {
   "cell_type": "markdown",
   "metadata": {},
   "source": [
    "Note that the previous evaluation routines were written in such a way that we can pass numpy arrays instead of lists and everything will just work."
   ]
  },
  {
   "cell_type": "code",
   "execution_count": 11,
   "metadata": {},
   "outputs": [
    {
     "data": {
      "text/plain": [
       "array([  1.23456790e-01,   2.00000000e+00,   2.57935317e+03])"
      ]
     },
     "execution_count": 11,
     "metadata": {},
     "output_type": "execute_result"
    }
   ],
   "source": [
    "x = np.array([0.1, 0.5, 0.99])\n",
    "coeff = np.arange(0,99,1)\n",
    "poly_eval_basic_reverse(x, coeff)"
   ]
  },
  {
   "cell_type": "markdown",
   "metadata": {},
   "source": []
  },
  {
   "cell_type": "markdown",
   "metadata": {},
   "source": [
    "### Question 2: Write a function which uses numpy to evaluate the Taylor series expansion of sin(x) for an array of x, and an arbitrary number of terms ie.\n",
    "<pre>\n",
    "def sin_eval_taylor(x, ncoeff):\n",
    "    \"\"\"\n",
    "     docstring goes here\n",
    "    \"\"\"\n",
    "    ...\n",
    "     calculations go here\n",
    "    ...\n",
    "    \n",
    "    return result\n",
    "</pre>"
   ]
  },
  {
   "cell_type": "markdown",
   "metadata": {},
   "source": [
    "## matplotlib\n",
    "\n",
    "Graphing and graphical display support is provided by the matplotlib module, typically imported as ``plt''.\n"
   ]
  },
  {
   "cell_type": "code",
   "execution_count": 12,
   "metadata": {
    "collapsed": true
   },
   "outputs": [],
   "source": [
    "%matplotlib inline\n",
    "import matplotlib.pyplot as plt"
   ]
  },
  {
   "cell_type": "code",
   "execution_count": 13,
   "metadata": {},
   "outputs": [
    {
     "data": {
      "text/plain": [
       "[<matplotlib.lines.Line2D at 0x7efd7ed5c160>]"
      ]
     },
     "execution_count": 13,
     "metadata": {},
     "output_type": "execute_result"
    },
    {
     "data": {
      "image/png": "[encoded data removed]",
      "text/plain": [
       "<matplotlib.figure.Figure at 0x7efd81507c50>"
      ]
     },
     "metadata": {},
     "output_type": "display_data"
    }
   ],
   "source": [
    "x = np.arange(-0.9, 0.9, 0.01)\n",
    "coeff = np.arange(0,99,1)\n",
    "y = poly_eval_basic_reverse(x, coeff)\n",
    "plt.plot(x,y)"
   ]
  },
  {
   "cell_type": "markdown",
   "metadata": {},
   "source": [
    "### Question 3: Use sin_eval_taylor to plot Taylor series expansions of sin(x) for order n=1, 3, 17, 29 and compare to the \"true\" value.  Try to make the figure look *exactly* like the one included below."
   ]
  },
  {
   "cell_type": "markdown",
   "metadata": {},
   "source": [
    "<img src=\"../fig/sin_taylor_series.png\">"
   ]
  },
  {
   "cell_type": "markdown",
   "metadata": {},
   "source": [
    "### Question 4: What are the absolute and the relative error (in percent) for Taylor series expansion of sin(x) at x=0.5 for n=3, 9, 29? Compare results of forward summing to reverse.  How else might we reduce roundoff error?\n"
   ]
  },
  {
   "cell_type": "markdown",
   "metadata": {},
   "source": [
    "## Submit answers in a single Jupyter notebook to D2L by 9pm on Monday January 22."
   ]
  },
  {
   "cell_type": "code",
   "execution_count": null,
   "metadata": {
    "collapsed": true
   },
   "outputs": [],
   "source": []
  }
 ],
 "metadata": {
  "anaconda-cloud": {},
  "kernelspec": {
   "display_name": "Python 3",
   "language": "python",
   "name": "python3"
  },
  "language_info": {
   "codemirror_mode": {
    "name": "ipython",
    "version": 3
   },
   "file_extension": ".py",
   "mimetype": "text/x-python",
   "name": "python",
   "nbconvert_exporter": "python",
   "pygments_lexer": "ipython3",
   "version": "3.6.3"
  }
 },
 "nbformat": 4,
 "nbformat_minor": 1
}
