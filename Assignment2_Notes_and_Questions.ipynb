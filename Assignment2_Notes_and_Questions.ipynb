{
 "cells": [
  {
   "cell_type": "code",
   "execution_count": 2,
   "metadata": {},
   "outputs": [],
   "source": [
    "import scipy\n",
    "import numpy as np\n",
    "import matplotlib.pyplot as plt\n",
    "%matplotlib inline"
   ]
  },
  {
   "cell_type": "markdown",
   "metadata": {},
   "source": [
    "## Roots\n",
    "\n",
    "A *root* or *zero* of a function $f(x)$ is simply a value of $x$ for which $f(x)=0$.\n",
    "\n",
    "Equality of two functions $f(x)$ and $g(x)$ is equivalent to the root of their difference\n",
    "\n",
    "  $$f(x) = g(x)$$\n",
    "  $$f(x) - g(x) = 0$$\n",
    "  \n",
    "Minima/maxima of functions can be determined by finding the roots of the first derivative\n",
    "\n",
    "  $$f'(x) = 0$$\n"
   ]
  },
  {
   "cell_type": "markdown",
   "metadata": {},
   "source": [
    "### In or out of bounds\n",
    "\n",
    "Assume that we can \"bracket\" a root $x_0$, so that we know \n",
    "\n",
    "  $$\\mathrm{xlim} = [x_{lo}, x_{hi}]$$\n",
    "  \n",
    "such that \n",
    "\n",
    "  $$ x_{lo} < x_0 < x_{hi} $$\n",
    "  \n",
    "then for $y = f(x)$\n",
    "\n",
    "  $$ y_{lo} < 0 < y_{hi} $$\n",
    "  \n",
    "or\n",
    "\n",
    "  $$ y_{lo} > 0 > y_{hi} $$\n",
    "\n",
    "and the product of the y-bounds should always be negative\n",
    "\n",
    "  $$ y_{lo} \\, \\times \\, y_{hi} < 0 $$"
   ]
  },
  {
   "cell_type": "markdown",
   "metadata": {},
   "source": [
    "# Roots of polynomials\n",
    "\n",
    "The *y-intercept* of a straight line\n",
    "\n",
    "  $$ y = ax + b $$\n",
    "  \n",
    "is the value of $x$ for which $y=0$.  This can be found by solving for\n",
    "\n",
    "  $$ x = \\left. \\frac{y-b}{a} \\right|_{y=0} = -\\frac{b}{a}$$\n",
    "\n",
    "\n",
    "A quadratic is only slightly more complicated\n",
    "\n",
    "  $$ y = a x^2 + b x + c $$\n",
    "  \n",
    "but calculating the \"roots\" or \"zeros\" of the equation requires a bit more work\n",
    "  \n",
    "  $$ x = \\frac{-b \\pm \\sqrt{b^2-4ac} }{2a} $$\n",
    "  \n",
    "to deal with the possibility of dividing by zero or taking the square root of a negative number.\n",
    "  \n",
    "  \n",
    "Any arbitrary N-th order polynomial\n",
    "\n",
    "  $$ y = \\sum\\limits_{n=0}^{N} a_n \\, x^n $$\n",
    "  \n",
    "will have $N$ roots in the complex plane, although they are not necessarily all unique.  "
   ]
  },
  {
   "cell_type": "markdown",
   "metadata": {},
   "source": [
    "## numpy.polynomial.Polynomial\n",
    "\n",
    "Polynomials in NumPy can be created, manipulated, and even fitted using the numpy.polynomial package which was introduced in NumPy 1.4.\n",
    "\n",
    "Prior to NumPy 1.4, numpy.poly1d was the class of choice and it is still available in order to maintain backward compatibility. However, the newer Polynomial package is more complete than numpy.poly1d and its convenience classes are better behaved in the numpy environment. Therefore Polynomial is recommended for new coding.\n",
    "\n",
    "The various routines in the Polynomial package all deal with series whose coefficients go from degree zero upward, which is the reverse order of the Poly1d convention. The easy way to remember this is that indexes correspond to degree, i.e., coef[i] is the coefficient of the term of degree i."
   ]
  },
  {
   "cell_type": "code",
   "execution_count": 3,
   "metadata": {},
   "outputs": [
    {
     "name": "stdout",
     "output_type": "stream",
     "text": [
      "<class 'numpy.polynomial.polynomial.Polynomial'>\n",
      "coefficients:  [-9.  3.  6.]\n"
     ]
    }
   ],
   "source": [
    "from numpy.polynomial import Polynomial as npoly\n",
    "\n",
    "# Make a polynomial object with c0=-9, c1=3, c2=6\n",
    "#\n",
    "p = npoly( [-9,3,6] )\n",
    "\n",
    "# Look at the object type and check the coefficients\n",
    "#\n",
    "print( type(p) )\n",
    "print( 'coefficients: ', p.coef )\n",
    "#dir(p)    # use this to get a complete list of attributes and methods"
   ]
  },
  {
   "cell_type": "code",
   "execution_count": 4,
   "metadata": {},
   "outputs": [
    {
     "name": "stdout",
     "output_type": "stream",
     "text": [
      "-9.0 -9.0\n",
      "       -9.0000000000000000000000000000000000000000\n"
     ]
    }
   ],
   "source": [
    "# evaluate at x=0, should be y=c0\n",
    "#\n",
    "y0 = p(0)\n",
    "c0 = p.coef[0]\n",
    "print( y0,c0 )\n",
    "\n",
    "# testing for floating point equality is a terrible idea\n",
    "# that sometimes works\n",
    "#\n",
    "assert( y0 == c0)                   \n",
    "assert( np.abs( y0 - c0 ) <= 1e-12 )\n",
    "print( '{:50.40f}'.format( y0 ) )"
   ]
  },
  {
   "cell_type": "code",
   "execution_count": 5,
   "metadata": {},
   "outputs": [
    {
     "data": {
      "text/plain": [
       "[<matplotlib.lines.Line2D at 0x19f1a4f3be0>]"
      ]
     },
     "execution_count": 5,
     "metadata": {},
     "output_type": "execute_result"
    },
    {
     "data": {
      "image/png": "[encoded data removed]",
      "text/plain": [
       "<matplotlib.figure.Figure at 0x19f1a48f1d0>"
      ]
     },
     "metadata": {},
     "output_type": "display_data"
    }
   ],
   "source": [
    "# try a quick plot\n",
    "#\n",
    "x = np.linspace(-2, +2, 31)\n",
    "y = p(x)\n",
    "plt.plot(x, y)"
   ]
  },
  {
   "cell_type": "code",
   "execution_count": 6,
   "metadata": {},
   "outputs": [
    {
     "name": "stdout",
     "output_type": "stream",
     "text": [
      "<class 'numpy.ndarray'>\n",
      "[-1.5  1. ] [0. 0.]\n"
     ]
    }
   ],
   "source": [
    "# the Polynomial object knows how to find its own roots\n",
    "#\n",
    "xzeros = p.roots()\n",
    "print( type(xzeros) )\n",
    "print( xzeros, p( xzeros) )"
   ]
  },
  {
   "cell_type": "code",
   "execution_count": 7,
   "metadata": {},
   "outputs": [
    {
     "name": "stdout",
     "output_type": "stream",
     "text": [
      "<class 'numpy.polynomial.polynomial.Polynomial'>\n",
      "[ 3. 12.]\n"
     ]
    }
   ],
   "source": [
    "# the Polynomial object can do calculus on itself\n",
    "deriv = p.deriv()\n",
    "print( type(deriv) )\n",
    "print( deriv.coef )"
   ]
  },
  {
   "cell_type": "code",
   "execution_count": 8,
   "metadata": {},
   "outputs": [
    {
     "name": "stdout",
     "output_type": "stream",
     "text": [
      "[-0.25] [0.]\n",
      "[-0.25] [-9.375]\n"
     ]
    }
   ],
   "source": [
    "# roots of derivatives are minima or maxima \n",
    "#\n",
    "xextrema = deriv.roots()\n",
    "print( xextrema, deriv(xextrema) )\n",
    "print( xextrema, p(xextrema) )"
   ]
  },
  {
   "cell_type": "code",
   "execution_count": 9,
   "metadata": {},
   "outputs": [
    {
     "data": {
      "text/plain": [
       "<matplotlib.legend.Legend at 0x19f1a5bd0f0>"
      ]
     },
     "execution_count": 9,
     "metadata": {},
     "output_type": "execute_result"
    },
    {
     "data": {
      "image/png": "[encoded data removed]",
      "text/plain": [
       "<matplotlib.figure.Figure at 0x19f1a5224e0>"
      ]
     },
     "metadata": {},
     "output_type": "display_data"
    }
   ],
   "source": [
    "x = np.linspace(-2, +2, 31)\n",
    "y = p(x)\n",
    "plt.plot(x, y, lw=3)\n",
    "plt.grid('on')\n",
    "\n",
    "for i,xz in enumerate(xzeros):\n",
    "    yz = p(xz)\n",
    "    label = 'f(x)=0' if i==0 else ''\n",
    "    plt.plot([xz,xz],[yz-5,yz+5], 'g--', label=label)\n",
    "    plt.plot([xz-1,xz+1],[yz,yz], 'g--')    \n",
    "    \n",
    "for i,xz in enumerate(xextrema):\n",
    "    label=\"f'(x)=0\"\n",
    "    yz = p(xz)\n",
    "    plt.plot([xz,xz],[yz-5,yz+5], 'r--',label=label)\n",
    "    plt.plot([xz-1,xz+1],[yz,yz], 'r--')\n",
    "    \n",
    "plt.legend(loc=0)"
   ]
  },
  {
   "cell_type": "markdown",
   "metadata": {},
   "source": []
  },
  {
   "cell_type": "markdown",
   "metadata": {},
   "source": [
    "# Roots of functions\n",
    "It would be extremely useful to be able to find the roots $z_k$ of an arbitrary function\n",
    "\n",
    "  $$ f(z_k) = 0 $$\n",
    "  \n",
    "This could be used to solve more general problems, such as finding the intersection of two functions\n",
    "\n",
    "  $$ b x \\cos x = \\sin x $$\n",
    "  \n",
    "which could also be written as\n",
    "\n",
    "  $$ b x - \\tan x = 0 $$"
   ]
  },
  {
   "cell_type": "code",
   "execution_count": 10,
   "metadata": {},
   "outputs": [
    {
     "data": {
      "text/plain": [
       "Text(0,0.5,'y')"
      ]
     },
     "execution_count": 10,
     "metadata": {},
     "output_type": "execute_result"
    },
    {
     "data": {
      "image/png": "[encoded data removed]",
      "text/plain": [
       "<matplotlib.figure.Figure at 0x19f1a501fd0>"
      ]
     },
     "metadata": {},
     "output_type": "display_data"
    }
   ],
   "source": [
    "b = 0.4\n",
    "x = np.linspace( -0.0*np.pi, 2.5*np.pi, 301)\n",
    "y1 = b * x\n",
    "y2 = np.tan(x)\n",
    "\n",
    "plt.plot( x, y1, 'g--', label='$y=bx$')\n",
    "plt.plot( x, y2, 'b-', label='$y=\\\\tan x$')\n",
    "plt.ylim( -0.01, 5.0 )\n",
    "plt.legend(loc=0)\n",
    "plt.title('Intersection of two functions')\n",
    "plt.xlabel('x')\n",
    "plt.ylabel('y')"
   ]
  },
  {
   "cell_type": "markdown",
   "metadata": {},
   "source": [
    "## Plot tuning\n",
    "\n",
    "The previous plot is pretty good, but the vertical lines at $\\tan x = n \\pi / 2$ really shouldn't be there.\n",
    "\n",
    "One way to deal with this kind of thing is to use the fact that matplotlib will default to treating \"not-a-number\" values as missing points.\n",
    "\n",
    "We can combine this with numpy array indexing to select all points less than zero and set them to \"np.nan\"."
   ]
  },
  {
   "cell_type": "code",
   "execution_count": 11,
   "metadata": {},
   "outputs": [
    {
     "name": "stdout",
     "output_type": "stream",
     "text": [
      "[0 1 3 3 4]\n"
     ]
    }
   ],
   "source": [
    "# Example of numpy array indexing: \n",
    "# find all values equal to two, and set them equal to three\n",
    "#\n",
    "x = np.array([0, 1, 2, 3, 4])\n",
    "x[ x==2 ] = 3\n",
    "print(x)"
   ]
  },
  {
   "cell_type": "code",
   "execution_count": 12,
   "metadata": {},
   "outputs": [
    {
     "name": "stdout",
     "output_type": "stream",
     "text": [
      "[0 2 4]\n"
     ]
    }
   ],
   "source": [
    "# Example of numpy array indexing: # extract all even values\n",
    "#\n",
    "x = np.array( [0, 1, 2, 3, 4] )\n",
    "y = x[ x%2 == 0 ]\n",
    "print(y)"
   ]
  },
  {
   "cell_type": "code",
   "execution_count": 13,
   "metadata": {},
   "outputs": [
    {
     "data": {
      "text/plain": [
       "<matplotlib.legend.Legend at 0x19f1a6a9e80>"
      ]
     },
     "execution_count": 13,
     "metadata": {},
     "output_type": "execute_result"
    },
    {
     "data": {
      "image/png": "[encoded data removed]",
      "text/plain": [
       "<matplotlib.figure.Figure at 0x19f1a68c908>"
      ]
     },
     "metadata": {},
     "output_type": "display_data"
    }
   ],
   "source": [
    "b = 0.4\n",
    "x = np.linspace( -0.0*np.pi, 2.5*np.pi, 301)\n",
    "y1 = b * x\n",
    "y2 = np.tan(x)\n",
    "y2[ y2 < 0.0 ] = np.nan  # skip plotting negative values\n",
    "\n",
    "plt.plot( x, y1, 'g--')\n",
    "plt.plot( x, y2, 'b-')\n",
    "plt.title('Intersection of two functions')\n",
    "plt.ylim( -0.01, 5.0 )\n",
    "\n",
    "# Only plot every 9th symbol to reduce clutter.\n",
    "#\n",
    "# One alternative is setting markevery=9 in plot\n",
    "#\n",
    "plt.plot( x[::9], y1[::9], 'go--', label=\"$y=bx$\")\n",
    "plt.plot( x[::9], y2[::9], 'bv', label=\"$y=\\\\tan x$\")\n",
    "\n",
    "plt.legend(loc=0)"
   ]
  },
  {
   "cell_type": "markdown",
   "metadata": {},
   "source": [
    "## Black box\n",
    "\n",
    "The Scientific Python *optimize* module (scipy.optimize) contains many tools for numerically locating function zeros and extrema.  The *brentq* function is a good choice for finding roots."
   ]
  },
  {
   "cell_type": "code",
   "execution_count": 14,
   "metadata": {},
   "outputs": [
    {
     "name": "stdout",
     "output_type": "stream",
     "text": [
      "solution  x:  4.1725967095893495 y:  3.6235141553930816e-09\n"
     ]
    }
   ],
   "source": [
    "import scipy.optimize as opt\n",
    "\n",
    "# Define the function before searching for roots\n",
    "#\n",
    "def myfunc(x, b=0.4):\n",
    "    return b*x - np.tan(x)\n",
    "\n",
    "xzero = opt.brentq(myfunc, 3.5, 4.5, xtol=1.0e-08, rtol=1.0e-14, maxiter=50 )\n",
    "print( 'solution  x: ',xzero, 'y: ', myfunc(xzero) ) "
   ]
  },
  {
   "cell_type": "code",
   "execution_count": 15,
   "metadata": {},
   "outputs": [
    {
     "name": "stdout",
     "output_type": "stream",
     "text": [
      "Help on function brentq in module scipy.optimize.zeros:\n",
      "\n",
      "brentq(f, a, b, args=(), xtol=2e-12, rtol=8.881784197001252e-16, maxiter=100, full_output=False, disp=True)\n",
      "    Find a root of a function in a bracketing interval using Brent's method.\n",
      "    \n",
      "    Uses the classic Brent's method to find a zero of the function `f` on\n",
      "    the sign changing interval [a , b].  Generally considered the best of the\n",
      "    rootfinding routines here.  It is a safe version of the secant method that\n",
      "    uses inverse quadratic extrapolation.  Brent's method combines root\n",
      "    bracketing, interval bisection, and inverse quadratic interpolation.  It is\n",
      "    sometimes known as the van Wijngaarden-Dekker-Brent method.  Brent (1973)\n",
      "    claims convergence is guaranteed for functions computable within [a,b].\n",
      "    \n",
      "    [Brent1973]_ provides the classic description of the algorithm.  Another\n",
      "    description can be found in a recent edition of Numerical Recipes, including\n",
      "    [PressEtal1992]_.  Another description is at\n",
      "    http://mathworld.wolfram.com/BrentsMethod.html.  It should be easy to\n",
      "    understand the algorithm just by reading our code.  Our code diverges a bit\n",
      "    from standard presentations: we choose a different formula for the\n",
      "    extrapolation step.\n",
      "    \n",
      "    Parameters\n",
      "    ----------\n",
      "    f : function\n",
      "        Python function returning a number.  The function :math:`f`\n",
      "        must be continuous, and :math:`f(a)` and :math:`f(b)` must\n",
      "        have opposite signs.\n",
      "    a : number\n",
      "        One end of the bracketing interval :math:`[a, b]`.\n",
      "    b : number\n",
      "        The other end of the bracketing interval :math:`[a, b]`.\n",
      "    xtol : number, optional\n",
      "        The computed root ``x0`` will satisfy ``np.allclose(x, x0,\n",
      "        atol=xtol, rtol=rtol)``, where ``x`` is the exact root. The\n",
      "        parameter must be nonnegative. For nice functions, Brent's\n",
      "        method will often satisfy the above condition with ``xtol/2``\n",
      "        and ``rtol/2``. [Brent1973]_\n",
      "    rtol : number, optional\n",
      "        The computed root ``x0`` will satisfy ``np.allclose(x, x0,\n",
      "        atol=xtol, rtol=rtol)``, where ``x`` is the exact root. The\n",
      "        parameter cannot be smaller than its default value of\n",
      "        ``4*np.finfo(float).eps``. For nice functions, Brent's\n",
      "        method will often satisfy the above condition with ``xtol/2``\n",
      "        and ``rtol/2``. [Brent1973]_\n",
      "    maxiter : number, optional\n",
      "        if convergence is not achieved in maxiter iterations, an error is\n",
      "        raised.  Must be >= 0.\n",
      "    args : tuple, optional\n",
      "        containing extra arguments for the function `f`.\n",
      "        `f` is called by ``apply(f, (x)+args)``.\n",
      "    full_output : bool, optional\n",
      "        If `full_output` is False, the root is returned.  If `full_output` is\n",
      "        True, the return value is ``(x, r)``, where `x` is the root, and `r` is\n",
      "        a RootResults object.\n",
      "    disp : bool, optional\n",
      "        If True, raise RuntimeError if the algorithm didn't converge.\n",
      "    \n",
      "    Returns\n",
      "    -------\n",
      "    x0 : float\n",
      "        Zero of `f` between `a` and `b`.\n",
      "    r : RootResults (present if ``full_output = True``)\n",
      "        Object containing information about the convergence.  In particular,\n",
      "        ``r.converged`` is True if the routine converged.\n",
      "    \n",
      "    See Also\n",
      "    --------\n",
      "    multivariate local optimizers\n",
      "      `fmin`, `fmin_powell`, `fmin_cg`, `fmin_bfgs`, `fmin_ncg`\n",
      "    nonlinear least squares minimizer\n",
      "      `leastsq`\n",
      "    constrained multivariate optimizers\n",
      "      `fmin_l_bfgs_b`, `fmin_tnc`, `fmin_cobyla`\n",
      "    global optimizers\n",
      "      `basinhopping`, `brute`, `differential_evolution`\n",
      "    local scalar minimizers\n",
      "      `fminbound`, `brent`, `golden`, `bracket`\n",
      "    n-dimensional root-finding\n",
      "      `fsolve`\n",
      "    one-dimensional root-finding\n",
      "      `brenth`, `ridder`, `bisect`, `newton`\n",
      "    scalar fixed-point finder\n",
      "      `fixed_point`\n",
      "    \n",
      "    Notes\n",
      "    -----\n",
      "    `f` must be continuous.  f(a) and f(b) must have opposite signs.\n",
      "    \n",
      "    Examples\n",
      "    --------\n",
      "    >>> def f(x):\n",
      "    ...     return (x**2 - 1)\n",
      "    \n",
      "    >>> from scipy import optimize\n",
      "    \n",
      "    >>> root = optimize.brentq(f, -2, 0)\n",
      "    >>> root\n",
      "    -1.0\n",
      "    \n",
      "    >>> root = optimize.brentq(f, 0, 2)\n",
      "    >>> root\n",
      "    1.0\n",
      "    \n",
      "    References\n",
      "    ----------\n",
      "    .. [Brent1973]\n",
      "       Brent, R. P.,\n",
      "       *Algorithms for Minimization Without Derivatives*.\n",
      "       Englewood Cliffs, NJ: Prentice-Hall, 1973. Ch. 3-4.\n",
      "    \n",
      "    .. [PressEtal1992]\n",
      "       Press, W. H.; Flannery, B. P.; Teukolsky, S. A.; and Vetterling, W. T.\n",
      "       *Numerical Recipes in FORTRAN: The Art of Scientific Computing*, 2nd ed.\n",
      "       Cambridge, England: Cambridge University Press, pp. 352-355, 1992.\n",
      "       Section 9.3:  \"Van Wijngaarden-Dekker-Brent Method.\"\n",
      "\n"
     ]
    }
   ],
   "source": [
    "# If in doubt: read the documentation\n",
    "#\n",
    "help(opt.brentq)"
   ]
  },
  {
   "cell_type": "markdown",
   "metadata": {},
   "source": [
    "## Bisection: slow but stable\n",
    "\n",
    "The bisection algorithm can be written in a few lines of code and will work for virtually any case.  It is not, however, the most computationally efficient choice.\n",
    "\n",
    " 0) Start with $x_{lo}, x_{hi}$ bracketing a root $x_0$.  \n",
    "\n",
    " 1) Next, calculate the mid-point\n",
    "\n",
    "  $$ x_{mid} = \\frac{ x_{lo} + x_{hi}}{2} $$\n",
    "  \n",
    "and the value of $y_{mid} = f(x_{mid})$ at that midpoint.\n",
    "\n",
    "\n",
    " 2) If $y_{mid}=0$ then we have found a root.  Remember, however, that testing for the equality of floating point numbers is unsafe.\n",
    " \n",
    " 2a) If $|y_{mid}|$ is less than some small number $\\epsilon$ then we might be close enough.\n",
    "\n",
    " 3) Otherwise the root must be either in the first half of the interval $x_{lo}, x_{mid}$ or the second half $x_{mid}, x_{hi}$.  We can figure out which is the case by looking for $y_a \\, \\times \\, y_b < 0$.  Take this sub-interval and apply step (1).  Repeat until finished."
   ]
  },
  {
   "cell_type": "code",
   "execution_count": 15,
   "metadata": {
    "collapsed": true
   },
   "outputs": [],
   "source": [
    "def root_bisection(func, xlimits, eps=1e-6, maxiter=99, debug=False):\n",
    "    \"\"\"basic implementation of root-finding with bisection\n",
    "    \n",
    "    @func     single parameter function\n",
    "    @xlimits  low, high bounds in 2 elements list/tuple/array \n",
    "    @eps      numerical precision, default 1e-6 (single precision)\n",
    "    \"\"\"\n",
    "    \n",
    "    xlo, xhi = xlimits  # unpack input into 2 variables\n",
    "    ylo = myfunc(xlo)\n",
    "    yhi = myfunc(xhi)\n",
    "    \n",
    "    if (ylo*yhi >= 0):\n",
    "        print('Error- initial values do not bracket root')  # is this correct?\n",
    "        return np.nan  # not-a-number is not None\n",
    "\n",
    "    while maxiter > 1:\n",
    "        maxiter -= 1\n",
    "        \n",
    "        xmid = (xlo + xhi) / 2.0  # could this cause trouble? explain why\n",
    "        ymid = func(xmid)\n",
    "        \n",
    "        if np.abs(ymid - 0.0) <= eps:\n",
    "            return xmid\n",
    "    \n",
    "        if (ylo*ymid < 0.0 ):\n",
    "            xlo, xhi = xlo, xmid\n",
    "            ylo, yhi = ylo, ymid\n",
    "        \n",
    "        elif (ymid*yhi < 0.0 ):\n",
    "            xlo, xhi = xmid, xhi\n",
    "            ylo, yhi = ymid, yhi\n",
    "\n",
    "        else: print('Error- this should never happen: root is not in either subregion')\n",
    "        \n",
    "        if debug:\n",
    "            print( '{:20.15g} \\t {:+20.15e}'.format(xmid, ymid) )\n",
    "            \n",
    "    print('Warning- did not converge')\n",
    "    return xmid"
   ]
  },
  {
   "cell_type": "code",
   "execution_count": 16,
   "metadata": {},
   "outputs": [
    {
     "name": "stdout",
     "output_type": "stream",
     "text": [
      "                   4 \t +4.421787176504226e-01\n",
      "                4.25 \t -3.063090278580591e-01\n",
      "               4.125 \t +1.480038871785188e-01\n",
      "              4.1875 \t -5.190149274117384e-02\n",
      "             4.15625 \t +5.370657416669955e-02\n",
      "            4.171875 \t +2.440202014916126e-03\n",
      "           4.1796875 \t -2.432916889329539e-02\n",
      "          4.17578125 \t -1.084632437459132e-02\n",
      "         4.173828125 \t -4.178790675770649e-03\n",
      "        4.1728515625 \t -8.632599368865179e-04\n",
      "       4.17236328125 \t +7.899755095601702e-04\n",
      "      4.172607421875 \t -3.626558121050394e-05\n",
      "     4.1724853515625 \t +3.769490578635626e-04\n",
      "    4.17254638671875 \t +1.703652697970792e-04\n",
      "    4.17257690429688 \t +6.705572816745331e-05\n",
      "    4.17259216308594 \t +1.539654457283213e-05\n",
      "    4.17259979248047 \t -1.043415052937036e-05\n",
      "     4.1725959777832 \t +2.481288967182138e-06\n",
      "    4.17259788513184 \t -3.976407794592518e-06\n",
      "solution  x:  4.1725969314575195 y:  -7.47553667191e-07\n"
     ]
    }
   ],
   "source": [
    "# pythonic way to assign multiple variables\n",
    "#\n",
    "xlo, xhi = 3.5, 4.5    \n",
    "\n",
    "# Note how the y-value (right column) steadily decreases\n",
    "# as we approach the root.\n",
    "#\n",
    "xzero = root_bisection( myfunc, (xlo, xhi), debug=True )\n",
    "print( 'solution  x: ', xzero, 'y: ', myfunc(xzero) ) "
   ]
  },
  {
   "cell_type": "markdown",
   "metadata": {},
   "source": [
    "## Functions are often expensive\n",
    "\n",
    "In many cases the function evalutions are relatively time-consuming. A good root-finding algorithms will make as few calls to the function as possible.  This is usually accomplished by making assumptions about the shape of the function ie. that it can be locally approximated by a low order polynomial."
   ]
  },
  {
   "cell_type": "code",
   "execution_count": 18,
   "metadata": {},
   "outputs": [
    {
     "name": "stdout",
     "output_type": "stream",
     "text": [
      "29.1 ms ± 395 µs per loop (mean ± std. dev. of 7 runs, 10 loops each)\n",
      "10.1 ms ± 51.8 µs per loop (mean ± std. dev. of 7 runs, 100 loops each)\n"
     ]
    }
   ],
   "source": [
    "import time\n",
    "def slow_func(x, b=0.4):\n",
    "    \"\"\" simulate slow function by waiting for 1 millisecond\n",
    "    \"\"\"\n",
    "    time.sleep(1e-3)  \n",
    "    return b*x - np.tan(x)\n",
    "\n",
    "#%timeit xzero = root_bisection( slow_func, (xlo, xhi) )\n",
    "%timeit xzero = opt.bisect( slow_func, 3.5, 4.5, xtol=1.0e-7, maxiter=99 )\n",
    "%timeit xzero = opt.brentq( slow_func, 3.5, 4.5, xtol=1.0e-7, maxiter=99 )"
   ]
  },
  {
   "cell_type": "code",
   "execution_count": 19,
   "metadata": {
    "collapsed": true
   },
   "outputs": [],
   "source": [
    "import time\n",
    "\n",
    "# Make a modified function that will print out debugging information\n",
    "#\n",
    "def track_func(x, b=0.4, debug=True):\n",
    "    y = b*x - np.tan(x)\n",
    "    if debug: print(x,y)\n",
    "    return y\n",
    "\n",
    "# Derivative of the function with respect to x.\n",
    "#\n",
    "def fprime(x, b=0.4):\n",
    "    dydx = b - 1.0/np.cos(x)**2\n",
    "    return dydx"
   ]
  },
  {
   "cell_type": "code",
   "execution_count": 20,
   "metadata": {},
   "outputs": [
    {
     "name": "stdout",
     "output_type": "stream",
     "text": [
      "BISECT: \n",
      "3.5 1.02541435984\n",
      "4.5 -2.83733205455\n",
      "4.0 0.44217871765\n",
      "4.25 -0.306309027858\n",
      "4.125 0.148003887179\n",
      "4.1875 -0.0519014927412\n",
      "4.15625 0.0537065741667\n",
      "4.171875 0.00244020201492\n",
      "4.1796875 -0.0243291688933\n",
      "4.17578125 -0.0108463243746\n",
      "4.173828125 -0.00417879067577\n",
      "4.1728515625 -0.000863259936887\n",
      "4.17236328125 0.00078997550956\n",
      "4.172607421875 -3.62655812105e-05\n",
      "4.1724853515625 0.000376949057864\n",
      "4.17254638671875 0.000170365269797\n",
      "4.172576904296875 6.70557281675e-05\n",
      "4.1725921630859375 1.53965445728e-05\n",
      "4.172599792480469 -1.04341505294e-05\n",
      "4.172595977783203 2.48128896718e-06\n",
      "4.172597885131836 -3.97640779459e-06\n",
      "4.1725969314575195 -7.47553667191e-07\n",
      "4.172596454620361 8.66869086513e-07\n",
      "4.17259669303894 5.96580689294e-08\n",
      "4.17259681224823 -3.43947709203e-07\n",
      "4.172596752643585 -1.4214479771e-07\n",
      "\n",
      "BRENTQ: \n",
      "3.5 1.02541435984\n",
      "4.5 -2.83733205455\n",
      "3.765462510306323 0.786417591671\n",
      "4.132731255153161 0.125627218322\n",
      "4.19078150549607 -0.0637309861464\n",
      "4.171243932720771 0.00456855323377\n",
      "4.172550800118308 0.0001554255497\n",
      "4.17259671458937 -1.33050070961e-08\n",
      "4.172596664589369 1.55979491101e-07\n"
     ]
    }
   ],
   "source": [
    "xlo, xhi = 3.5, 4.5\n",
    "\n",
    "# bisection will get the right answer eventually\n",
    "#\n",
    "print('BISECT: ')\n",
    "xzero =  opt.bisect( track_func, 3.5, 4.5, xtol=1.0e-7, maxiter=99 )\n",
    "\n",
    "# brentq will be *much* faster\n",
    "#\n",
    "print('\\nBRENTQ: ')\n",
    "xzero =  opt.brentq( track_func, 3.5, 4.5, xtol=1.0e-7, maxiter=99 )"
   ]
  },
  {
   "cell_type": "markdown",
   "metadata": {},
   "source": [
    "## Newton's method\n",
    "\n",
    "An arbitrary differentiable function f(x) can be represented as a Taylor series expansion\n",
    "\n",
    "  $$ f(x) = f(x_0) + f'(x_0) (x-x_0) + \\ldots $$\n",
    "  \n",
    "An iterative approach to finding the roots $f(x)=0$\n",
    "\n",
    "  $$ 0 = f(x_0) + f'(x_0) (x-x_0) + \\ldots $$\n",
    "  \n",
    "only involves the linear term\n",
    "\n",
    "  $$ x \\approx x_0 - \\frac{f(x_0)}{f'(x_0)} $$\n",
    "  \n",
    "starting with some initial value $x_0$ we obtain an estimate for the location of the root.\n",
    "\n",
    "It is easy to show that this result will be exactly correct for a straight line.  \n",
    "\n",
    "If the function is \"well-behaved\" then sucessive estimates\n",
    "\n",
    "  $$ x_{n+1} = x_n - \\frac{f(x_n)}{f'(x_n)} $$\n",
    "  \n",
    "should converge towards the correct value.\n",
    "\n",
    "In the neighborhood of a simple zero the rate of convergence is at least quadratic.  This means that the number of correct digits roughly doubles with each step.\n"
   ]
  },
  {
   "cell_type": "code",
   "execution_count": 22,
   "metadata": {},
   "outputs": [
    {
     "name": "stdout",
     "output_type": "stream",
     "text": [
      "NEWTON (bad initial value)\n",
      "3.5 1.02541435984\n",
      "3.5004500000000003 1.02508113181\n",
      "4.88474685367 7.69821376339\n",
      "3.28780375664 1.16785952755\n",
      "3.00221355074 1.34117414308\n",
      "5.21221873993 3.91611611123\n",
      "1.85111894261 4.21383181194\n",
      "49.4237166101 20.8890905044\n",
      "-10.1704592005 -3.14462183545\n",
      "-2.37303099341 -1.91609386185\n",
      "9.78835616824 3.53484892395\n",
      "1.90189175073 3.66985378639\n",
      "216.280624343 87.0446989629\n",
      "-7.53427094151 0.00681587103857\n",
      "-7.5517977173 0.187177323521\n",
      "-7.53360860351 0.000388970068441\n",
      "-7.5335707263 2.22416438489e-05\n",
      "-7.53356842909 2.80388912088e-09\n",
      "\n",
      "NEWTON (good initial value)\n",
      "4.0 0.44217871765\n",
      "4.0005 0.441207764615\n",
      "4.2277034529 -0.207961967306\n",
      "4.15491867148 0.0579409303938\n",
      "4.17077866394 0.0061345291703\n",
      "4.17265668643 -0.000203082093388\n",
      "4.17259650717 6.88953905481e-07\n",
      "4.17259671064 7.71127606214e-11\n"
     ]
    }
   ],
   "source": [
    "# \"NEWTON\" method without a derivative is similar to secant method.\n",
    "#\n",
    "\n",
    "# Note how changing the starting point can have dramatic effects.\n",
    "#\n",
    "print('NEWTON (bad initial value)')\n",
    "xzero =  opt.newton( track_func, 3.5, None, tol=1.0e-7, maxiter=99 )\n",
    "\n",
    "print('\\nNEWTON (good initial value)')\n",
    "xzero =  opt.newton( track_func, 4.0, None, tol=1.0e-7, maxiter=99 )"
   ]
  },
  {
   "cell_type": "code",
   "execution_count": 27,
   "metadata": {
    "scrolled": true
   },
   "outputs": [
    {
     "name": "stdout",
     "output_type": "stream",
     "text": [
      "NEWTON (adequate initial value + derivative)\n",
      "3.75 0.803449148889\n",
      "4.49038119248 -2.63394710908\n",
      "4.3601539872 -0.976557755865\n",
      "4.23811126435 -0.252709507529\n",
      "4.18060572807 -0.0275275020534\n",
      "4.17271642245 -0.000405397580684\n",
      "4.1725967374 -9.05493984238e-08\n",
      "4.17259671066 -4.21884749358e-15\n",
      "4.17259671066 -1.33226762955e-15\n",
      "\n",
      "NEWTON (good initial value + derivative)\n",
      "4.0 0.44217871765\n",
      "4.22786255952 -0.208631449474\n",
      "4.17829639597 -0.0195048420913\n",
      "4.17265733916 -0.000205292528633\n",
      "4.17259671752 -2.32255072952e-08\n",
      "4.17259671066 -1.33226762955e-15\n"
     ]
    }
   ],
   "source": [
    "print('NEWTON (adequate initial value + derivative)')\n",
    "xzero =  opt.newton( track_func, 3.75, fprime, tol=1.0e-17, maxiter=99 )\n",
    "                      \n",
    "print('\\nNEWTON (good initial value + derivative)')\n",
    "xzero =  opt.newton( track_func, 4.0, fprime, tol=1.0e-17, maxiter=99 )"
   ]
  },
  {
   "cell_type": "markdown",
   "metadata": {
    "collapsed": true
   },
   "source": [
    "## Assignment \\#2\n",
    "\n",
    "### 1) Use numpy.polynomial.legendre to generate a single plot showing the first five Legendre polynomials  with order from $N=1$ up to and including $N=5$ between $x=−1$ and $x=+1$\n",
    "\n",
    "### 2) Use scipy.optimize.brentq to find all of the zeros of the Legendre polynomials with order from $N=1$ up to and including $N=5$.\n",
    "\n",
    "### 3) Write a function to find zeros using the \"secant method\".  This is very similar to Newton's method, but uses a discrete estimate for the derivative.\n",
    "(Similar to bisection function)\n",
    "The iteration step is\n",
    "\n",
    "  $$ x = x_1 - f(x_1) \\frac{x_1 - x_0}{f(x_1) - f(x_0)} $$\n",
    "  \n",
    "and we stop when the new $x$ is very close to $x_1$ or the new function evaluation $f(x_1)$ is very close to zero\n",
    "\n",
    "### 4) Apply your secant method function to find the roots of a Legendre polynomial for $N=5$.\n",
    "\n",
    "\n",
    "### 5) Apply your secant method function to the \"myfunc\" function.  Use a range of different starting points as given by  x = np.linspace(-1.0, 10.0, 101) and find the resulting roots.  Discuss your results."
   ]
  },
  {
   "cell_type": "code",
   "execution_count": null,
   "metadata": {
    "collapsed": true
   },
   "outputs": [],
   "source": []
  }
 ],
 "metadata": {
  "anaconda-cloud": {},
  "kernelspec": {
   "display_name": "Python 3",
   "language": "python",
   "name": "python3"
  },
  "language_info": {
   "codemirror_mode": {
    "name": "ipython",
    "version": 3
   },
   "file_extension": ".py",
   "mimetype": "text/x-python",
   "name": "python",
   "nbconvert_exporter": "python",
   "pygments_lexer": "ipython3",
   "version": "3.6.3"
  }
 },
 "nbformat": 4,
 "nbformat_minor": 1
}
