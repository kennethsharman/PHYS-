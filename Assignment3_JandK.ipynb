{
 "cells": [
  {
   "cell_type": "markdown",
   "metadata": {},
   "source": [
    "# PHYS 381 - Assignment #3\n",
    "#### February 12, 2018\n",
    "John Ming Ngo (30020834)\n",
    "\n",
    "Kenneth Barry Sharman (00300185)"
   ]
  },
  {
   "cell_type": "markdown",
   "metadata": {},
   "source": [
    "## Introduction\n",
    "This week we will be looking at the details involved with performing integration using python.\n",
    "\n",
    "There are many functions within SciPy that will take care of the integration details, such as the quad function. However, our goal at this point is to get an underlying understanding of the process. To begin, we went through the details of using the well-known trapezoidal approximation for evaluating an integral. This analysis is key to our understanding the numerical integral, as all functions will use this basic idea of a limit.  We revealed that two important aspects of numerical integration are the number of divisions and the error involved. We will keep these at the top of our list throughout our analysis.\n",
    "\n",
    "The first goal is to use Scipy's romberg function to compute the value of the following triple integral.\n",
    "\n",
    "\n",
    "$$ \\int_{x=0}^1 \\int_{y=0}^\\sqrt{1-x^2} \\int_{z=0}^\\sqrt{1-x^2-y^2} \\frac{dz \\, dy \\, dx}{1 + x^2 + y^2 + z^2} $$\n",
    "\n",
    "After getting comfortable with using the romberg function to take a single integral, we noted that the task at hand was to determine how to perform consecutive integrations using a function that can only do one at a time.\n",
    "\n",
    "The solution to this problem is to create a chain of integrations. It is essential to understand that the argument of the romberg function is an unevaluated function which returns a number. Romberg itself is an unevaluated function that returns a number. Therefore, we can create a chain of integrations which accomplishes the desired three dimensional integral.\n",
    "\n",
    "The following chunk of code defines the functions necessary to evaluate a triple integral given input bounds."
   ]
  },
  {
   "cell_type": "code",
   "execution_count": 1,
   "metadata": {
    "scrolled": true
   },
   "outputs": [],
   "source": [
    "import scipy.integrate as integrate\n",
    "import scipy\n",
    "import numpy\n",
    "\n",
    "def tripleIntegral(integrandFunction, xLowBound, xHighBound, yLowBound, yHighBound, zLowBound, zUpBound, tol = 1e-6, divmax = 100, isShow = False):\n",
    "    \"\"\"\n",
    "    This function computes a triple integral given an integrand function, numerical bounds on the outermost function (x),\n",
    "    and function bounds on the second inner and innermost functions, with the input expected to be arranged in (y, x) order.\n",
    "    \n",
    "    Parameters:\n",
    "        integrandFunction: The function to be integrated over.\n",
    "        xLowBound: Number corresponding to the outer x integral lower bound.\n",
    "        xHighBound: Number corresponding to the outer x integral higher bound.\n",
    "        yLowBound: Function corresponding to the second inner y integral lower bound.\n",
    "        yHighBound: Function corresponding to the second inner y integral higher bound.\n",
    "        zLowBound: Function corresponding to the innermost z integral lower bound.\n",
    "        zUpBound: Function corresponding to the innermost z integral higher bound.\n",
    "        tol: Integration tolerances for all three integrations, as fed into the scipy.integrate.romberg function.\n",
    "        divmax: divmax tolerances for all three integrations, as fed into the scipy.integrate.romberg function.\n",
    "        isShow: Show the triangular integration matrix for the romberg function, for all integrals.\n",
    "        \n",
    "    \n",
    "    Returns:\n",
    "        The numerical result of the triple integral.\n",
    "    \"\"\"\n",
    "    def outerIntegral(x):\n",
    "        low, high = yLowBound(x), yHighBound(x)\n",
    "        return integrate.romberg(innerIntegral, low, high, args=(x,), tol = tol, divmax = divmax, show = isShow)\n",
    "    def innerIntegral(y,x):\n",
    "        low, high = zLowBound(y,x), zUpBound(y,x)\n",
    "        return integrate.romberg(integrandFunction, low, high, args=(y,x), tol = tol, divmax = divmax, show = isShow)\n",
    "    return integrate.romberg(outerIntegral, xLowBound, xHighBound, tol = tol, divmax = divmax, show = isShow)"
   ]
  },
  {
   "cell_type": "markdown",
   "metadata": {},
   "source": [
    "We will define the following functions to provide our integration bounds and integrand for the cartesian integration. Through trial and error, we realized that absolute value had to be used for the square root functions. Even though our bounds are expected to yield a non-negative radicand, we repeatedly received an invalid number error. This is since the integration is evaluated in steps, coupled with the non-exact nature of float data types. It appears we were stepping just past valid range of the radicand; hence the absolute value was necessary. \n",
    "\n",
    "This is not the only solution and is perhaps a dangerous one. We know that our bounds are mathematically valid, however one could use our function on an interval that lies outside of the function domain. A better solution could be to trim the bounds, with a specified allowance, such that integrating outside of the domain would throw an exception. However, for this assignment we will simply apply the absolute value.\n",
    "\n",
    "Note that we have added a counter, which is used to keep track of the number of calls to the integrand. This will be a source of interest later in the analysis."
   ]
  },
  {
   "cell_type": "code",
   "execution_count": 2,
   "metadata": {},
   "outputs": [],
   "source": [
    "\n",
    "def zeroFunction(x = 0, y = 0, z = 0):\n",
    "    \"\"\"\n",
    "    Zero function which takes any three parameters and just returns zero.\n",
    "    \n",
    "    Parameters:\n",
    "        x, y, z: any three parameters, exist for generality sake in case some\n",
    "        function wants to substitute things into this function without knowing\n",
    "        beforehand that it does not need to or cannot. Meant for the triple\n",
    "        integral function above.\n",
    "    Returns:\n",
    "        0, the integer value.\n",
    "    \"\"\"\n",
    "    return 0\n",
    "\n",
    "def middleCartesianHigherBounds(x):\n",
    "    \"\"\"\n",
    "    For the cartesian integrand function, the upper bounds of the middle integral\n",
    "    is calculated with this function. Note that due to floating point imprecision\n",
    "    issues, the returned value might sometimes be outside the intended bounds.\n",
    "    \n",
    "    Since this function is not meant to be a general use function, but rather\n",
    "    was made specifically for the case of that one integral, fixing it with an\n",
    "    absolute value.\n",
    "    \n",
    "    Parameters:\n",
    "        x: corresponds to the x value as subbed in by the outer integral loop.\n",
    "    Returns:\n",
    "        The value of the upper limit evaluated at the given x value.\n",
    "    \"\"\"\n",
    "    return abs(1-x**2)**(1/2)\n",
    "\n",
    "def innerCartesianHigherBounds(y,x):\n",
    "    \"\"\"\n",
    "    For the cartesian integrand function, the upper bounds of the inner integral\n",
    "    is calculated with this function. Note that due to floating point imprecision\n",
    "    issues, the returned value might sometimes be outside the intended bounds.\n",
    "    \n",
    "    Since this function is not meant to be a general use function, but rather\n",
    "    was made specifically for the case of that one integral, fixing it with an\n",
    "    absolute value.\n",
    "    \n",
    "    Parameters:\n",
    "        y: corresponds to the y value as subbed in by the middle interal loop.\n",
    "        x: corresponds to the x calue as subbed in by the outer integral loop.\n",
    "    Returns:\n",
    "    \"\"\"\n",
    "    return abs(1-x**2-y**2)**(1/2)\n",
    "\n",
    "def cartesianFunction(z,y,x):\n",
    "    \"\"\"\n",
    "    The cartesian form of the integrand function as desired by the problem.\n",
    "    \n",
    "    Parameters:\n",
    "        z: Corresponds to the z value to be subbed in from the innermost loop.\n",
    "        y: Corresponds to the y value to be subbed in from the middle loop.\n",
    "        x: Corresponds to the x value to be subbed in from the outermost loop.\n",
    "    Returns:\n",
    "        A value corresponding to the integrand evalulated at the given\n",
    "        x, y and z variables.\n",
    "    \n",
    "    \"\"\"\n",
    "    cartesianFunction.numOfIterations += 1\n",
    "    return 1/(1+x**2+y**2+z**2)\n",
    "#Function attributes need to be defined after defining a function, else odd things happen.\n",
    "cartesianFunction.numOfIterations = 0"
   ]
  },
  {
   "cell_type": "markdown",
   "metadata": {},
   "source": [
    "Before evaluating the integral, a second integration will be defined.\n",
    "\n",
    "In previous assignments there was a significant emphasis on the idea that equivalent mathematical statements can produce different results when using numerical methods. We will apply this concept by evaluating the previous integration in spherical coordinates.\n",
    "\n",
    "$$ \\int_{\\theta=0}^{\\pi/2} \\int_{\\phi=0}^{\\pi/2} \\int_{\\rho=0}^1 \\frac{\\rho^2 \\sin\\phi \\, d\\rho \\, d\\phi \\, d\\theta}{1 + \\rho^2} $$\n",
    "\n",
    "Similar to the cartesian integral, the bounds are defined as functions."
   ]
  },
  {
   "cell_type": "code",
   "execution_count": 3,
   "metadata": {},
   "outputs": [],
   "source": [
    "def halfPiFunction(z=0,y=0,x=0):\n",
    "    \"\"\"\n",
    "    Similar to the zero function, takes up to three arbitrary parameters\n",
    "    and returns a constant value, in this case pi/2.\n",
    "    \n",
    "    Parameters:\n",
    "        z, y, x: Parameters corresponding to the subbed in z, y, x values\n",
    "        during integration, though it actually doesn't matter what's subbed\n",
    "        in since it's not used. As before, these slots exist to allow the\n",
    "        integral function to be fully general.\n",
    "    Returns:\n",
    "        scipy.pi/2 as a floating point value.\n",
    "    \"\"\"\n",
    "    return scipy.pi/2\n",
    "def oneFunction(z=0,y=0,x=0):\n",
    "    \"\"\"\n",
    "    Similar to the zero function, takes up to three arbitrary parameters\n",
    "    and returns a constant value, in this case 1.\n",
    "    \n",
    "    Parameters:\n",
    "        z, y, x: Parameters corresponding to the subbed in z, y, x values\n",
    "        during integration, though it actually doesn't matter what's subbed\n",
    "        in since it's not used. As before, these slots exist to allow the\n",
    "        integral function to be fully general.\n",
    "    Returns:\n",
    "        1.\n",
    "    \"\"\"\n",
    "    return 1\n",
    "def sphericalFunction(p, theta, phi):\n",
    "    \"\"\"\n",
    "    The spherical form of the integrand function as desired by the problem.\n",
    "    \n",
    "    Parameters:\n",
    "        z: Corresponds to the z value to be subbed in from the innermost loop.\n",
    "        y: Corresponds to the y value to be subbed in from the middle loop.\n",
    "        x: Corresponds to the x value to be subbed in from the outermost loop.\n",
    "    Returns:\n",
    "        A value corresponding to the integrand evalulated at the given\n",
    "        x, y and z variables.\n",
    "    \"\"\"\n",
    "    sphericalFunction.numOfIterations += 1\n",
    "    return p**2*scipy.sin(phi)/(1+p**2)\n",
    "#Function attributes need to be defined after the function, else odd things happen.\n",
    "sphericalFunction.numOfIterations = 0"
   ]
  },
  {
   "cell_type": "code",
   "execution_count": 4,
   "metadata": {},
   "outputs": [
    {
     "name": "stdout",
     "output_type": "stream",
     "text": [
      "Result of the Cartesian Triple Integral: 0.3370953613758728\n",
      "Result of the Spherical Triple Integral: 0.3370957758099527\n"
     ]
    }
   ],
   "source": [
    "print(\"Result of the Cartesian Triple Integral:\", tripleIntegral(cartesianFunction, 0, 1, zeroFunction, middleCartesianHigherBounds, zeroFunction, innerCartesianHigherBounds))\n",
    "print(\"Result of the Spherical Triple Integral:\", tripleIntegral(sphericalFunction, 0, scipy.pi/2, zeroFunction, halfPiFunction, zeroFunction, oneFunction))"
   ]
  },
  {
   "cell_type": "markdown",
   "metadata": {},
   "source": [
    "As expected the integration results are dependent on the coordinate system. To verify that we are on the right track, we will compare our result to that of the tplquad function found in the scipy library. The cartesianFunction is used (defined above) and bounds are defined as follows:"
   ]
  },
  {
   "cell_type": "code",
   "execution_count": 5,
   "metadata": {},
   "outputs": [],
   "source": [
    "def gfun(x):\n",
    "    return 0\n",
    "def hfun(x):\n",
    "    return numpy.sqrt(numpy.abs(1-x*x))\n",
    "def qfun(x,y):\n",
    "    return 0\n",
    "def rfun(x,y):\n",
    "    return numpy.sqrt(numpy.abs(1-x*x-y*y))"
   ]
  },
  {
   "cell_type": "code",
   "execution_count": 6,
   "metadata": {},
   "outputs": [
    {
     "name": "stdout",
     "output_type": "stream",
     "text": [
      "Tplquad Integral Result: (0.3370957766592014, 5.438126766630307e-09)\n"
     ]
    }
   ],
   "source": [
    "print(\"Tplquad Integral Result:\", scipy.integrate.tplquad(cartesianFunction, 0, 1, gfun, hfun, qfun, rfun, args=(), epsabs=1.49e-08, epsrel=1.49e-08))"
   ]
  },
  {
   "cell_type": "markdown",
   "metadata": {},
   "source": [
    "If this result represents the true value of the integral, it is noted that the spherical integral produced a more precise result than the cartesian, at the set tolerance level. \n",
    "\n",
    "It is easy to say that we want the most precise result possible, however our study of numerical methods has shown that this comes with a price- computational efficiency. In previous assignments we have timed the evaluation to compare methods. Since both integrals are evaluated using the same method, we can relate efficiency to the number of calls to the integrand. Plotting the number of integrand calls against the tolerance of the romberg function, we can provide a qualitative description of the relationship between the two variables. \n",
    "\n",
    "The analysis will be performed for both integrals using the counter we added to the code of each integrand function. We will define a function that stores the number of calls at a given tolerance. This data will then be plotted using a logarithmic scale, as trial and error has shown that the relationship is of a decreasing exponential form. "
   ]
  },
  {
   "cell_type": "code",
   "execution_count": 7,
   "metadata": {},
   "outputs": [],
   "source": [
    "import matplotlib.pyplot as plt"
   ]
  },
  {
   "cell_type": "code",
   "execution_count": 8,
   "metadata": {},
   "outputs": [
    {
     "data": {
      "image/png": "[encoded data removed]",
      "text/plain": [
       "<matplotlib.figure.Figure at 0x262d6056438>"
      ]
     },
     "metadata": {},
     "output_type": "display_data"
    },
    {
     "data": {
      "image/png": "[encoded data removed]",
      "text/plain": [
       "<matplotlib.figure.Figure at 0x262d6dbdda0>"
      ]
     },
     "metadata": {},
     "output_type": "display_data"
    }
   ],
   "source": [
    "def getNumOfIntegrandCalls(tol, isCartesian):\n",
    "    \"\"\"\n",
    "    This function, given a tolerance setting and an indication of if we're using\n",
    "    the cartesian or spherical coordinate function determines how many integrand\n",
    "    calls occurred before we get the result. It's specific to the two functions\n",
    "    made above unfortunately.\n",
    "    \n",
    "    Parameters:\n",
    "         tol: A number such as 1e-6 for the purposes of determining error tolerance\n",
    "         to substitute into our integral calculation calls.\n",
    "         isCartesian: A boolean flag variable for determining if to use the cartesian\n",
    "         function or the spherical function.\n",
    "    Returns:\n",
    "        numOfCalls: The number of calls to the integrand function.\n",
    "    \"\"\"\n",
    "    numOfCalls = 0\n",
    "    if isCartesian:\n",
    "        cartesianFunction.numOfIterations = 0\n",
    "        tripleIntegral(cartesianFunction, 0, 1, zeroFunction, middleCartesianHigherBounds, zeroFunction, innerCartesianHigherBounds, tol = tol)\n",
    "        numOfCalls = cartesianFunction.numOfIterations\n",
    "    else:\n",
    "        sphericalFunction.numOfIterations = 0\n",
    "        tripleIntegral(sphericalFunction, 0, scipy.pi/2, zeroFunction, halfPiFunction, zeroFunction, oneFunction, tol = tol)\n",
    "        numOfCalls = sphericalFunction.numOfIterations\n",
    "    return numOfCalls\n",
    "\n",
    "def createTolVsIntegrandCallsPlot(tolerances, isCartesian = True):\n",
    "    \"\"\"\n",
    "    This function, given an input list of tolerances and an indication of which graph we\n",
    "    want (cartesian or spherical), will plot a graph of the number of times the integrand\n",
    "    was called versus the tolerance required.\n",
    "    \n",
    "    Parameters:\n",
    "        tolerances: A list or numpy array of tolerances.\n",
    "        isCartesian: A boolean control flag to determine if we want the graph\n",
    "        for the cartesian form or the spherical form.\n",
    "    \"\"\"\n",
    "    #Gets data points of the number of integrand calls needed for each\n",
    "    #input tolerance level.\n",
    "    numbersOfIterations = []\n",
    "    for entry in tolerances:\n",
    "        numbersOfIterations.append(getNumOfIntegrandCalls(entry, isCartesian))\n",
    "        \n",
    "    # Set the plot size\n",
    "    plt.figure(figsize=(9,5))\n",
    "        \n",
    "    #Generates labels:\n",
    "    label = \"\"\n",
    "    if isCartesian:\n",
    "        label = \"Cartesian\"\n",
    "    else:\n",
    "        label = \"Spherical\"\n",
    "    #Sets up the chart, limiting size and specifying grid.\n",
    "    plt.axis()\n",
    "    plt.grid(True)\n",
    "\n",
    "    #Labels and plots the chart.\n",
    "    plt.xlabel(\"Tolerances\")\n",
    "    plt.ylabel(\"Number of Integrand Calls (N)\")\n",
    "    plt.title(\"Number of \" + label + \" Integrand Calls vs Tolerances of Integration\")\n",
    "    plt.loglog(tolerances, numbersOfIterations, \"co-\")\n",
    "    plt.show()\n",
    "createTolVsIntegrandCallsPlot([1e0, 1e-1, 1e-2, 1e-3, 1e-4, 1e-5, 1e-6], True)\n",
    "createTolVsIntegrandCallsPlot([1e0, 1e-1, 1e-2, 1e-3, 1e-4, 1e-5, 1e-6, 1e-7, 1e-8, 1e-9, 1e-10, 1e-11, 1e-12], False)"
   ]
  },
  {
   "cell_type": "markdown",
   "metadata": {
    "collapsed": true
   },
   "source": [
    "The cartesian plot shows a nearly linear relationship between the variables. Recalling this is a logarithmic scale, we can conclude that the relationship is approximately of the exponential form. Thus, for an increased decimal place of precision, we need to perform ten times as many calls to the integrand. Indeed, decreasing the tolerance of the cartesian integral is costly!\n",
    "\n",
    "This is initially the case for the spherical integral as well, however at a tolerance of 1e-7 the number of integrand calls immediately plateaus. For increased precision, it appears the function is performing the same number of cycles. To determine exactly what is happening here we would need to analyze the source code of the romberg function. For our purposes it is sufficient to note that drastic difference in behavior between the integrals. Remember that they are mathematically equivalent and are called using the same function. This is a perfect example that shows the differences that can arise in numerical computation when a statement is represented in different forms."
   ]
  },
  {
   "cell_type": "markdown",
   "metadata": {},
   "source": [
    "## Conclusion\n",
    "This analysis was a learning lesson in two major areas. First, the concept of handling unevaluated functions was again explored. The key to this assignment was to notice that the romberg function has an argument that takes in a function and returns a number. Romberg itself is a function that takes in a function and returns a number. After wrapping our heads around this idea, we were able to construct a triple integral using a chain of romberg functions.\n",
    "\n",
    "The specified integral was evaluated in two different coordinate systems; cartesian and spherical. It came as no surprise that each method produced slightly different results, however it was eye opening to analyze a piece of the inner workings of each method. \n",
    "\n",
    "The cartesian integral behaved as expected. As we decreased the tolerance, the number of integrand calls increased. The spherical integration gave a little surprise. After reducing the tolerance to a certain point, we noticed that the number of integrand calls stopped increasing. Initially this was quite confusing. Have we reached the maximum precision offered by python? While the cause of this was not determined (although highly speculated) this illustrated a concept that we are quite used to. Within a certain range two variables may very well exhibit a particular relationship, but outside of this range that relationship can change.\n",
    "\n",
    "Three assignments into this course we can already see that there are many factors involved with numerical analysis and as such we must be careful to consider the factors that will affect our analysis. "
   ]
  },
  {
   "cell_type": "code",
   "execution_count": null,
   "metadata": {},
   "outputs": [],
   "source": []
  }
 ],
 "metadata": {
  "anaconda-cloud": {},
  "kernelspec": {
   "display_name": "Python 3",
   "language": "python",
   "name": "python3"
  },
  "language_info": {
   "codemirror_mode": {
    "name": "ipython",
    "version": 3
   },
   "file_extension": ".py",
   "mimetype": "text/x-python",
   "name": "python",
   "nbconvert_exporter": "python",
   "pygments_lexer": "ipython3",
   "version": "3.6.3"
  }
 },
 "nbformat": 4,
 "nbformat_minor": 1
}
