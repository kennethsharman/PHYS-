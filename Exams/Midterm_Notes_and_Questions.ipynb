{
 "cells": [
  {
   "cell_type": "markdown",
   "metadata": {},
   "source": [
    "# Chebyshev and Lissajous\n",
    "## Phys381 W2018 midterm"
   ]
  },
  {
   "cell_type": "markdown",
   "metadata": {},
   "source": [
    "## 1) Chebyshev polynomials\n",
    "\n",
    "https://en.wikipedia.org/wiki/Chebyshev_polynomials\n",
    "\n",
    "Chebyshev polynomials are named after Pafnuty Chebyshev (sometimes written as Tschebyschev).  They are solutions to the Chebyshev differential equations\n",
    "\n",
    " $$ \\left(1-x^{2}\\right)y''-xy'+n^{2}y=0 $$\n",
    " \n",
    "and\n",
    "\n",
    " $$ \\left(1-x^{2}\\right)y''-3xy'+n(n+2)y=0 $$"
   ]
  },
  {
   "cell_type": "markdown",
   "metadata": {},
   "source": [
    "The Chebyshev polynomials of the first kind can be defined by the recurrence relation\n",
    "\n",
    " $$\\begin{aligned}\n",
    " T_{0}(x)&=1\\\\T_{1}(x)&=x\\\\T_{n+1}(x)&=2xT_{n}(x)-T_{n-1}(x).\n",
    " \\end{aligned} $$"
   ]
  },
  {
   "cell_type": "markdown",
   "metadata": {},
   "source": [
    "Task 1a: write a function to evaluate the Chebyshev polynomials using only core Python and the \"math\" module (ie. don't just call a library function for this task). \n",
    "\n",
    "Your function should be defined so that it can be called as follows:\n",
    "\n",
    "   y = Chebyshev1_recur(x, n)\n",
    "   \n",
    "In other words, if the degree $n$ and a single value $x$ are provided, then a single value equal to $T_n(x)$ should be returned.\n"
   ]
  },
  {
   "cell_type": "markdown",
   "metadata": {},
   "source": [
    "Task 1b: use your Chebyshev1_recur function to generate a good quality figure displaying the first six (n=0 to 5) Chebyshev polynomials plotted between x=-1 and x=+1."
   ]
  },
  {
   "cell_type": "markdown",
   "metadata": {},
   "source": [
    "## 2) Orthogonality\n",
    "\n",
    "Chebyshev polynomials of the first kind are orthogonal over the range $[-1,+1]$.  This means that the weighted integral inner product is given by\n",
    "\n",
    " $$ \\int\\limits_{-1}^{+1} \\frac{T_n(x) \\; T_m(x)}{\\sqrt{1-x^2}} \\; dx \\;=\\; \\frac{1}{2}\\pi\\;\\delta_{n,m} \\qquad n\\ne 0, m\\ne 0$$\n",
    "\n",
    "where the Kroneker delta function $\\delta_{i,j}$ is 1 if $i=j$ and zero otherwise."
   ]
  },
  {
   "cell_type": "markdown",
   "metadata": {},
   "source": [
    "Task 2: Use numerical integration to calculate the weighted integral inner product for $n=1,2,\\ldots,N$ and $m=1,2,\\ldots,n$.  Tabulate the results for $N=5$ and then determine the maximum value of $N$ which you can handle in a reasonable amount of time."
   ]
  },
  {
   "cell_type": "markdown",
   "metadata": {},
   "source": [
    "## 3) Lissajous figures\n",
    "\n",
    "https://en.wikipedia.org/wiki/Lissajous_curve\n",
    "    \n",
    "In mathematics, a Lissajous curve <pre>/ˈlɪsəʒuː/</pre> is the graph of a system of parametric equations\n",
    "\n",
    " $$\\begin{align} x\\;=\\;&A\\sin(a t+\\delta ) \\\\\n",
    "    y\\;=\\;&B\\sin(b t)        \\end{align}$$\n",
    "    \n",
    "The appearance of the figure is highly sensitive to the ratio  $a/b$.  Rational ratios produce closed (connected) or \"still\" figures, while irrational ratios produce figures that appear to rotate."
   ]
  },
  {
   "cell_type": "markdown",
   "metadata": {},
   "source": [
    "Assume that $A=B=1$, $a=3$, and $b=7$.\n",
    "\n",
    "Task 3a: Plot $x$ versus $y$ starting at $t=0$ and continuing until the pattern is complete.\n",
    "\n",
    "Task 3b: If $x(t)$ and $y(t)$ give the location of an object in the $x,y$ plane, what is the maximum speed of the object $\\left| \\vec v(t) \\right|$?  At which time $t$ does it occur?  "
   ]
  },
  {
   "cell_type": "markdown",
   "metadata": {},
   "source": [
    "## 4) Everything is connected\n",
    "\n",
    "For Lissajous figures where $A=B=1$, a = 1, b = N (N is a natural number) and\n",
    " \n",
    " $$ \\delta ={\\frac {N-1}{N}}{\\frac {\\pi }{2}} $$\n",
    " \n",
    "it can be shown that $y(x)$ are Chebyshev polynomials of the first kind with degree N. "
   ]
  },
  {
   "cell_type": "markdown",
   "metadata": {},
   "source": [
    "Task 4: Check this claim. Start by considering the following x-values for $n=5$.\n",
    "\n",
    " $$ x_k = \\cos \\left( \\frac{2k-1}{2n} \\pi \\right), \\quad k=1,\\ldots,n $$\n",
    " \n",
    "Create a table with the results eg.\n",
    "\n",
    " | value  |chebyshev | lissajous | difference |\n",
    " |--------|----------|-----------|------------|\n",
    " |   0.?? |   ??.??  |   ??.??   |   ??.??    |\n",
    " |   0.?? |          |           |            |\n",
    "\n",
    "and discuss them.  Briefly describe other ways that you might check to see if $y(x)$ are Chebyshev polynomials. "
   ]
  },
  {
   "cell_type": "code",
   "execution_count": null,
   "metadata": {
    "collapsed": true
   },
   "outputs": [],
   "source": [
    "https://www.youtube.com/watch?v=uPbzhxYTioM"
   ]
  }
 ],
 "metadata": {
  "anaconda-cloud": {},
  "kernelspec": {
   "display_name": "Python 3",
   "language": "python",
   "name": "python3"
  },
  "language_info": {
   "codemirror_mode": {
    "name": "ipython",
    "version": 3
   },
   "file_extension": ".py",
   "mimetype": "text/x-python",
   "name": "python",
   "nbconvert_exporter": "python",
   "pygments_lexer": "ipython3",
   "version": "3.6.3"
  }
 },
 "nbformat": 4,
 "nbformat_minor": 1
}
